{
 "cells": [
  {
   "cell_type": "code",
   "execution_count": 16,
   "metadata": {},
   "outputs": [],
   "source": [
    "# CripBoardに内容をペーストする\n",
    "# must install pip install pyperclip\n",
    "import pyperclip\n",
    "clip_text = 'a-matsu test' \n",
    "pyperclip.copy(clip_text)"
   ]
  }
 ],
 "metadata": {
  "interpreter": {
   "hash": "8f26980394b0af2f33b04de326674ba73cb49336ed8172049e6cbdbfcf9f7652"
  },
  "kernelspec": {
   "display_name": "Python 3.8.5 64-bit",
   "language": "python",
   "name": "python3"
  },
  "language_info": {
   "codemirror_mode": {
    "name": "ipython",
    "version": 3
   },
   "file_extension": ".py",
   "mimetype": "text/x-python",
   "name": "python",
   "nbconvert_exporter": "python",
   "pygments_lexer": "ipython3",
   "version": "3.8.5"
  },
  "orig_nbformat": 4
 },
 "nbformat": 4,
 "nbformat_minor": 2
}
